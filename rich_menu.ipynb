{
 "cells": [
  {
   "cell_type": "code",
   "execution_count": 9,
   "metadata": {},
   "outputs": [],
   "source": [
    "'''\n",
    "\n",
    "輸入圖文選單的資料夾名，若已創建過的，請勿輸入，避免重複創造\n",
    "\n",
    "'''\n",
    "\n",
    "rich_menu_array=['follow']\n"
   ]
  },
  {
   "cell_type": "code",
   "execution_count": 10,
   "metadata": {},
   "outputs": [
    {
     "name": "stdout",
     "output_type": "stream",
     "text": [
      "-設定檔上傳結果\n",
      "richmenu-560600e3dd2760e4062bc4a4d27731d5\n",
      "-圖片上傳結果\n",
      "None\n"
     ]
    }
   ],
   "source": [
    "'''\n",
    "迴圈讀取本地列表，\n",
    "    上傳設定檔，取得id，並將id寫入檔案中，而後上傳圖片\n",
    "\n",
    "'''\n",
    "\n",
    "import json\n",
    "from linebot import LineBotApi\n",
    "\n",
    "# 載入安全設定檔\n",
    "secretFileContentJson=json.load(open(\"./line_secret_key\",'r',encoding='utf8'))\n",
    "line_bot_api = LineBotApi(secretFileContentJson.get(\"channel_access_token\"))\n",
    "\n",
    "from linebot.models import RichMenu\n",
    "\n",
    "for rich_menu_name in rich_menu_array:\n",
    "\n",
    "    \n",
    "    # 創建菜單，取得menuId\n",
    "    lineRichMenuId = line_bot_api.create_rich_menu(rich_menu=RichMenu.new_from_json_dict(json.load(open(\"material/\"+rich_menu_name+'/rich_menu.json','r',encoding='utf8'))))\n",
    "    print(\"-設定檔上傳結果\")\n",
    "    print(lineRichMenuId)\n",
    "\n",
    "                                           \n",
    "    # id寫入本地端                              \n",
    "    f = open(\"material/\"+rich_menu_name+\"/rich_menu_id\", \"w\",encoding='utf8')\n",
    "    f.write(lineRichMenuId)\n",
    "    f.close()                                       \n",
    " \n",
    "\n",
    "    # 上傳照片至該id\n",
    "    set_image_response=''\n",
    "    with open(\"material/\"+rich_menu_name+'/rich_menu.jpg', 'rb') as f:\n",
    "        set_image_response=line_bot_api.set_rich_menu_image(lineRichMenuId, 'image/jpeg', f)\n",
    "        \n",
    "    print(\"-圖片上傳結果\")                                               \n",
    "    print(set_image_response)\n",
    "                                                                 \n"
   ]
  },
  {
   "cell_type": "code",
   "execution_count": 11,
   "metadata": {},
   "outputs": [
    {
     "data": {
      "text/plain": [
       "[{\"areas\": [{\"action\": {\"text\": \"\\u6211\\u8981\\u770bAI\", \"type\": \"message\"}, \"bounds\": {\"height\": 742, \"width\": 582, \"x\": 37, \"y\": 87}}, {\"action\": {\"text\": \"\\u96f2\\u670d\\u52d9\\u6b63\\u592f\\uff0c\\u5c31\\u696d\\u65b0\\u5c0e\\u5411\", \"type\": \"message\"}, \"bounds\": {\"height\": 738, \"width\": 652, \"x\": 1242, \"y\": 62}}, {\"action\": {\"text\": \"\\u5340\\u584a\\u93c8\\u4e5f\\u4e0d\\u932f\", \"type\": \"message\"}, \"bounds\": {\"height\": 697, \"width\": 611, \"x\": 627, \"y\": 99}}], \"chatBarText\": \"\\u5716\\u6587\\u9078\\u55ae\\u9996\\u9801\", \"name\": \"\\u9996\\u9801\", \"richMenuId\": \"richmenu-560600e3dd2760e4062bc4a4d27731d5\", \"selected\": true, \"size\": {\"height\": 1686, \"width\": 2500}},\n",
       " {\"areas\": [{\"action\": {\"text\": \"[::text:]\\u50b3\\u7d71\\u4ea4\\u6613\", \"type\": \"message\"}, \"bounds\": {\"height\": 850, \"width\": 824, \"x\": 5, \"y\": 0}}, {\"action\": {\"text\": \"[::text:]\\u7b2c\\u4e09\\u65b9\\u516c\\u8b49\\u4eba\", \"type\": \"message\"}, \"bounds\": {\"height\": 818, \"width\": 825, \"x\": 0, \"y\": 850}}, {\"action\": {\"text\": \"[::text:]\\u591a\\u4f4d\\u516c\\u8b49\\u4eba\", \"type\": \"message\"}, \"bounds\": {\"height\": 849, \"width\": 871, \"x\": 829, \"y\": 5}}, {\"action\": {\"text\": \"[::text:]\\u591a\\u7d44\\u7e54\\u591a\\u4f4d\\u516c\\u8b49\\u4eba\", \"type\": \"message\"}, \"bounds\": {\"height\": 814, \"width\": 875, \"x\": 825, \"y\": 854}}, {\"action\": {\"text\": \"[::text:]\\u6559\\u5b78\\u8a0a\\u606f\", \"type\": \"message\"}, \"bounds\": {\"height\": 858, \"width\": 800, \"x\": 1700, \"y\": 0}}, {\"action\": {\"text\": \"[::text:]more\", \"type\": \"message\"}, \"bounds\": {\"height\": 810, \"width\": 800, \"x\": 1700, \"y\": 858}}], \"chatBarText\": \"\\u67e5\\u770b\\u66f4\\u591a\\u8cc7\\u8a0a\", \"name\": \"\\u5340\\u584a\\u93c8\\u81ea\\u5b9a\\u7fa9\\u83dc\\u55ae\", \"richMenuId\": \"richmenu-c08f1424fc11cfd3f3f0c51167475fb3\", \"selected\": true, \"size\": {\"height\": 1686, \"width\": 2500}},\n",
       " {\"areas\": [{\"action\": {\"text\": \"[::text:]\\u50b3\\u7d71\\u4ea4\\u6613\", \"type\": \"message\"}, \"bounds\": {\"height\": 850, \"width\": 824, \"x\": 5, \"y\": 0}}, {\"action\": {\"text\": \"[::text:]\\u7b2c\\u4e09\\u65b9\\u516c\\u8b49\\u4eba\", \"type\": \"message\"}, \"bounds\": {\"height\": 818, \"width\": 825, \"x\": 0, \"y\": 850}}, {\"action\": {\"text\": \"[::text:]\\u591a\\u4f4d\\u516c\\u8b49\\u4eba\", \"type\": \"message\"}, \"bounds\": {\"height\": 849, \"width\": 871, \"x\": 829, \"y\": 5}}, {\"action\": {\"text\": \"[::text:]\\u591a\\u7d44\\u7e54\\u591a\\u4f4d\\u516c\\u8b49\\u4eba\", \"type\": \"message\"}, \"bounds\": {\"height\": 814, \"width\": 875, \"x\": 825, \"y\": 854}}, {\"action\": {\"text\": \"[::text:]\\u6559\\u5b78\\u8a0a\\u606f\", \"type\": \"message\"}, \"bounds\": {\"height\": 858, \"width\": 800, \"x\": 1700, \"y\": 0}}, {\"action\": {\"text\": \"[::text:]more\", \"type\": \"message\"}, \"bounds\": {\"height\": 810, \"width\": 800, \"x\": 1700, \"y\": 858}}], \"chatBarText\": \"\\u67e5\\u770b\\u66f4\\u591a\\u8cc7\\u8a0a\", \"name\": \"\\u5340\\u584a\\u93c8\\u81ea\\u5b9a\\u7fa9\\u83dc\\u55ae\", \"richMenuId\": \"richmenu-32f21677e989ab8934f131048710f958\", \"selected\": true, \"size\": {\"height\": 1686, \"width\": 2500}}]"
      ]
     },
     "execution_count": 11,
     "metadata": {},
     "output_type": "execute_result"
    }
   ],
   "source": [
    "'''\n",
    "\n",
    "查詢帳號內擁有的richmenu \n",
    "\n",
    "'''\n",
    "\n",
    "from linebot import (\n",
    "    LineBotApi\n",
    ")\n",
    "\n",
    "import json\n",
    "\n",
    "secretFileContentJson=json.load(open(\"./line_secret_key\",'r',encoding='utf8'))\n",
    "line_bot_api = LineBotApi(secretFileContentJson.get(\"channel_access_token\"))\n",
    "\n",
    "line_bot_api.get_rich_menu_list()\n"
   ]
  },
  {
   "cell_type": "code",
   "execution_count": 4,
   "metadata": {},
   "outputs": [
    {
     "ename": "FileNotFoundError",
     "evalue": "[Errno 2] No such file or directory: 'material/rich_menu_0/rich_menu_id'",
     "output_type": "error",
     "traceback": [
      "\u001b[1;31m---------------------------------------------------------------------------\u001b[0m",
      "\u001b[1;31mFileNotFoundError\u001b[0m                         Traceback (most recent call last)",
      "\u001b[1;32m<ipython-input-4-6d4f45f3f37a>\u001b[0m in \u001b[0;36m<module>\u001b[1;34m\u001b[0m\n\u001b[0;32m     19\u001b[0m \u001b[1;33m\u001b[0m\u001b[0m\n\u001b[0;32m     20\u001b[0m     \u001b[1;31m# 讀取rich_menu_id檔案，並告知 Line 進行刪除，並在刪除後，把本地檔案內容清除\u001b[0m\u001b[1;33m\u001b[0m\u001b[1;33m\u001b[0m\u001b[0m\n\u001b[1;32m---> 21\u001b[1;33m     \u001b[1;32mwith\u001b[0m \u001b[0mopen\u001b[0m\u001b[1;33m(\u001b[0m\u001b[1;34m\"material/\"\u001b[0m\u001b[1;33m+\u001b[0m\u001b[0mrich_menu_name\u001b[0m\u001b[1;33m+\u001b[0m\u001b[1;34m'/rich_menu_id'\u001b[0m\u001b[1;33m,\u001b[0m \u001b[1;34m'r'\u001b[0m\u001b[1;33m,\u001b[0m\u001b[0mencoding\u001b[0m\u001b[1;33m=\u001b[0m\u001b[1;34m'utf8'\u001b[0m\u001b[1;33m)\u001b[0m \u001b[1;32mas\u001b[0m \u001b[0mmyfile\u001b[0m\u001b[1;33m:\u001b[0m\u001b[1;33m\u001b[0m\u001b[0m\n\u001b[0m\u001b[0;32m     22\u001b[0m         \u001b[0mrich_menu_id\u001b[0m \u001b[1;33m=\u001b[0m \u001b[0mmyfile\u001b[0m\u001b[1;33m.\u001b[0m\u001b[0mread\u001b[0m\u001b[1;33m(\u001b[0m\u001b[1;33m)\u001b[0m\u001b[1;33m\u001b[0m\u001b[0m\n\u001b[0;32m     23\u001b[0m         \u001b[0mdeleteResult\u001b[0m \u001b[1;33m=\u001b[0m \u001b[0mline_bot_api\u001b[0m\u001b[1;33m.\u001b[0m\u001b[0mdelete_rich_menu\u001b[0m\u001b[1;33m(\u001b[0m\u001b[0mrich_menu_id\u001b[0m\u001b[1;33m)\u001b[0m\u001b[1;33m\u001b[0m\u001b[0m\n",
      "\u001b[1;31mFileNotFoundError\u001b[0m: [Errno 2] No such file or directory: 'material/rich_menu_0/rich_menu_id'"
     ]
    }
   ],
   "source": [
    "'''\n",
    "\n",
    "移除帳號內的richmenu\n",
    "\n",
    "'''\n",
    "\n",
    "from linebot import (\n",
    "    LineBotApi\n",
    ")\n",
    "\n",
    "import json\n",
    "secretFileContentJson=json.load(open(\"./line_secret_key\",'r',encoding='utf8'))\n",
    "line_bot_api = LineBotApi(secretFileContentJson.get(\"channel_access_token\"))\n",
    "\n",
    "# 設定要移除的rich_menu\n",
    "rich_menu_name_array = [\"rich_menu_0\"]\n",
    "\n",
    "for rich_menu_name in rich_menu_name_array:\n",
    "    \n",
    "    # 讀取rich_menu_id檔案，並告知 Line 進行刪除，並在刪除後，把本地檔案內容清除\n",
    "    with open(\"material/\"+rich_menu_name+'/rich_menu_id', 'r',encoding='utf8') as myfile:\n",
    "        rich_menu_id = myfile.read()\n",
    "        deleteResult = line_bot_api.delete_rich_menu(rich_menu_id)\n",
    "        print(deleteResult)\n",
    "        \n",
    "    f = open(\"material/\"+rich_menu_name+\"/rich_menu_id\", \"w\")\n",
    "    f.write('')\n",
    "    f.close() "
   ]
  },
  {
   "cell_type": "code",
   "execution_count": 5,
   "metadata": {},
   "outputs": [],
   "source": [
    "'''\n",
    "\n",
    "解除用戶綁定\n",
    "\n",
    "'''\n",
    "\n",
    "from linebot import (\n",
    "    LineBotApi\n",
    ")\n",
    "\n",
    "import json\n",
    "\n",
    "# rich_menu_id_array = [\"rich_menu_0\"]\n",
    "\n",
    "secretFileContentJson=json.load(open(\"./line_secret_key\",'r',encoding='utf8'))\n",
    "line_bot_api = LineBotApi(secretFileContentJson.get(\"channel_access_token\"))\n",
    "\n",
    "self_user_id='Ud29c5cf085e845db7c6457677116df4d'\n",
    "line_bot_api.unlink_rich_menu_from_user(self_user_id)"
   ]
  },
  {
   "cell_type": "code",
   "execution_count": 19,
   "metadata": {},
   "outputs": [],
   "source": [
    "'''\n",
    "\n",
    "綁定個人用戶進行測試\n",
    "\n",
    "'''\n",
    "\n",
    "from linebot import (\n",
    "    LineBotApi\n",
    ")\n",
    "\n",
    "import json\n",
    "\n",
    "# rich_menu_id_array = [\"rich_menu_0\"]\n",
    "\n",
    "secretFileContentJson=json.load(open(\"./line_secret_key\",'r',encoding='utf8'))\n",
    "line_bot_api = LineBotApi(secretFileContentJson.get(\"channel_access_token\"))\n",
    "\n",
    "self_user_id='Ud29c5cf085e845db7c6457677116df4d'\n",
    "rich_menu_id='richmenu-62d1b8717117640cdb9910e273452d35'\n",
    "\n",
    "line_bot_api.unlink_rich_menu_from_user(self_user_id)\n",
    "line_bot_api.link_rich_menu_to_user(self_user_id,rich_menu_id)"
   ]
  },
  {
   "cell_type": "code",
   "execution_count": null,
   "metadata": {},
   "outputs": [],
   "source": []
  }
 ],
 "metadata": {
  "kernelspec": {
   "display_name": "Python 3",
   "language": "python",
   "name": "python3"
  },
  "language_info": {
   "codemirror_mode": {
    "name": "ipython",
    "version": 3
   },
   "file_extension": ".py",
   "mimetype": "text/x-python",
   "name": "python",
   "nbconvert_exporter": "python",
   "pygments_lexer": "ipython3",
   "version": "3.6.5"
  }
 },
 "nbformat": 4,
 "nbformat_minor": 2
}
