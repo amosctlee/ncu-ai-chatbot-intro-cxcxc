{
 "cells": [
  {
   "cell_type": "code",
   "execution_count": null,
   "metadata": {},
   "outputs": [],
   "source": [
    "!pip install gspread"
   ]
  },
  {
   "cell_type": "code",
   "execution_count": 1,
   "metadata": {},
   "outputs": [],
   "source": [
    "\"\"\"\n",
    "認證\n",
    "使用剛剛建立並下載的JSON檔案\n",
    "\n",
    "\"\"\"\n",
    "\n",
    "import gspread\n",
    "from google.oauth2.service_account import Credentials\n",
    "\n",
    "scopes = ['https://spreadsheets.google.com/feeds',\n",
    "         'https://www.googleapis.com/auth/drive']\n",
    "\n",
    "# 填寫金鑰檔案位置、名稱\n",
    "credentials = Credentials.from_service_account_file('ncu-ai-tutorial-47520ee70490.json', \n",
    "                                                    scopes=scopes)\n",
    "\n",
    "gc = gspread.authorize(credentials)\n"
   ]
  },
  {
   "cell_type": "code",
   "execution_count": null,
   "metadata": {},
   "outputs": [],
   "source": [
    "\"\"\"\n",
    "創建並分享Spreadsheet給自己的email帳號\n",
    "\n",
    "\"\"\"\n",
    "sh = gc.create('A new spreadsheet')\n",
    "\n",
    "sh.share('your@gmail.com', perm_type='user', role='owner')\n"
   ]
  },
  {
   "cell_type": "code",
   "execution_count": 4,
   "metadata": {},
   "outputs": [
    {
     "name": "stdout",
     "output_type": "stream",
     "text": [
      "[{'標題': '國立中央大學', '網址': 'www.ncu.edu.tw', '說明': '中文版 / English. 國立中央大學版權所有. 校址：(32001) 桃園市中壢區中大路300 號. 總機電話：03-4227151傳真：03-4226062. FacebookYoutube.\\r', '排序': 1}, {'標題': '國立中央大學- 维基百科，自由的百科全书', '網址': 'zh.wikipedia.org', '說明': '國立中央大學（英語譯名：National Central University），簡稱中央大學、中大、NCU，是中華民國一所國立綜合型大學，中華民國教育部最初7所重點研究型大學之一， ...', '排序': 2}, {'標題': '中央大學板 | Dcard', '網址': 'www.dcard.tw', '說明': '中央大學板，一個能讓你暢所欲言的地方。在這裡，卡友們可以盡情討論校園裡的大小事，舉凡課程資訊、教授教學評價，又或是學校活動，只要是你想要知道的資訊， ...', '排序': 3}, {'標題': '', '網址': '', '說明': '', '排序': 6}]\n"
     ]
    }
   ],
   "source": [
    "\"\"\"\n",
    "開啟Spreadsheet 和 選擇Worksheet\n",
    "\n",
    "\"\"\"\n",
    "\n",
    "# 開啟要操作的Spreadsheet\n",
    "# spread_sheet = gc.open('test_gspread')\n",
    "# spread_sheet = gc.open_by_key('1z3mbhrUhIBno40_fGUnLr4AQhpO8AmgW5VEUzpSjICY')\n",
    "spread_sheet = gc.open_by_url('https://docs.google.com/spreadsheets/d/1z3mbhrUhIBno40_fGUnLr4AQhpO8AmgW5VEUzpSjICY/edit#gid=0')\n",
    "\n",
    "\n",
    "# 選擇要操作的Worksheet\n",
    "# work_sheet1 = spread_sheet.get_worksheet(0)\n",
    "# work_sheet1 = spread_sheet.worksheet('中央大學搜尋結果')\n",
    "work_sheet1 = spread_sheet.sheet1\n",
    "\n",
    "print(work_sheet1.get_all_records())"
   ]
  },
  {
   "cell_type": "code",
   "execution_count": 6,
   "metadata": {},
   "outputs": [
    {
     "data": {
      "text/plain": [
       "[<Worksheet '中央大學搜尋結果' id:0>, <Worksheet '工作表2' id:221930495>]"
      ]
     },
     "execution_count": 6,
     "metadata": {},
     "output_type": "execute_result"
    }
   ],
   "source": [
    "\"\"\"\n",
    "使用worksheets()方法列出此Spreadsheet中的所有Worksheet\n",
    "\n",
    "\"\"\"\n",
    "\n",
    "spread_sheet.worksheets()"
   ]
  },
  {
   "cell_type": "code",
   "execution_count": 10,
   "metadata": {},
   "outputs": [],
   "source": [
    "\"\"\"\n",
    "新增與刪除worksheet\n",
    "\n",
    "\"\"\"\n",
    "\n",
    "worksheet2 = spread_sheet.add_worksheet(title='a new worksheet', rows=\"10\", cols=\"8\")\n",
    "\n",
    "# spread_sheet.del_worksheet(worksheet2)\n"
   ]
  },
  {
   "cell_type": "code",
   "execution_count": 11,
   "metadata": {},
   "outputs": [
    {
     "name": "stdout",
     "output_type": "stream",
     "text": [
      "6\n",
      "=SUM(D2:D4)\n"
     ]
    }
   ],
   "source": [
    "\"\"\"\n",
    "取得儲存格內容，若儲存格是公式\u000b",
    "(ex: =SUM(D2:D4))，也可以取得\n",
    "\n",
    "\"\"\"\n",
    "\n",
    "cell_test = work_sheet1.cell(5,4).value\n",
    "print(cell_test)\n",
    "cell_test = work_sheet1.cell(5,4, value_render_option='FORMULA').value\n",
    "print(cell_test)"
   ]
  },
  {
   "cell_type": "code",
   "execution_count": 12,
   "metadata": {},
   "outputs": [
    {
     "name": "stdout",
     "output_type": "stream",
     "text": [
      "['標題', '網址', '說明', '排序']\n",
      "['網址', 'www.ncu.edu.tw', 'zh.wikipedia.org', 'www.dcard.tw']\n"
     ]
    }
   ],
   "source": [
    "\"\"\"\n",
    "取得整列或整欄的值\n",
    "\n",
    "\"\"\"\n",
    "\n",
    "print(work_sheet1.row_values(1))\n",
    "print(work_sheet1.col_values(2))"
   ]
  },
  {
   "cell_type": "code",
   "execution_count": 13,
   "metadata": {},
   "outputs": [
    {
     "data": {
      "text/plain": [
       "[['標題', '網址', '說明', '排序'],\n",
       " ['國立中央大學',\n",
       "  'www.ncu.edu.tw',\n",
       "  '中文版 / English. 國立中央大學版權所有. 校址：(32001) 桃園市中壢區中大路300 號. 總機電話：03-4227151傳真：03-4226062. FacebookYoutube.\\r',\n",
       "  '1'],\n",
       " ['國立中央大學- 维基百科，自由的百科全书',\n",
       "  'zh.wikipedia.org',\n",
       "  '國立中央大學（英語譯名：National Central University），簡稱中央大學、中大、NCU，是中華民國一所國立綜合型大學，中華民國教育部最初7所重點研究型大學之一， ...',\n",
       "  '2'],\n",
       " ['中央大學板 | Dcard',\n",
       "  'www.dcard.tw',\n",
       "  '中央大學板，一個能讓你暢所欲言的地方。在這裡，卡友們可以盡情討論校園裡的大小事，舉凡課程資訊、教授教學評價，又或是學校活動，只要是你想要知道的資訊， ...',\n",
       "  '3'],\n",
       " ['', '', '', '6']]"
      ]
     },
     "execution_count": 13,
     "metadata": {},
     "output_type": "execute_result"
    }
   ],
   "source": [
    "\"\"\"\n",
    "取得整個worksheet的值\n",
    "\n",
    "\"\"\"\n",
    "\n",
    "work_sheet1.get_all_values()"
   ]
  },
  {
   "cell_type": "code",
   "execution_count": 15,
   "metadata": {},
   "outputs": [
    {
     "name": "stdout",
     "output_type": "stream",
     "text": [
      "<Cell R1C1 '標題'> 1 1 標題\n",
      "[<Cell R1C1 '標題'>, <Cell R2C5 '標題'>]\n"
     ]
    }
   ],
   "source": [
    "\"\"\"\n",
    "搜尋儲存格\n",
    "\n",
    "\"\"\"\n",
    "\n",
    "cell = work_sheet1.find('標題')\n",
    "print(cell, cell.row, cell.col, cell.value)\n",
    "\n",
    "cell_list = work_sheet1.findall('標題')\n",
    "print(cell_list)"
   ]
  },
  {
   "cell_type": "code",
   "execution_count": 19,
   "metadata": {},
   "outputs": [
    {
     "name": "stdout",
     "output_type": "stream",
     "text": [
      "{'spreadsheetId': '1z3mbhrUhIBno40_fGUnLr4AQhpO8AmgW5VEUzpSjICY', 'updatedRange': \"'中央大學搜尋結果'!B5\", 'updatedRows': 1, 'updatedColumns': 1, 'updatedCells': 1}\n",
      "{'spreadsheetId': '1z3mbhrUhIBno40_fGUnLr4AQhpO8AmgW5VEUzpSjICY', 'updatedRange': \"'中央大學搜尋結果'!C6\", 'updatedRows': 1, 'updatedColumns': 1, 'updatedCells': 1}\n",
      "{'spreadsheetId': '1z3mbhrUhIBno40_fGUnLr4AQhpO8AmgW5VEUzpSjICY', 'updatedRange': \"'中央大學搜尋結果'!A7:D9\", 'updatedRows': 3, 'updatedColumns': 4, 'updatedCells': 12}\n"
     ]
    }
   ],
   "source": [
    "\"\"\"\n",
    "更新儲存格\n",
    "\n",
    "\"\"\"\n",
    "\n",
    "print(work_sheet1.update('B5', 'Bingo!'))\n",
    "print(work_sheet1.update_cell(6, 3, 'Bingo 2!'))\n",
    "print(work_sheet1.update('A7:D9', [[1, 2, 3, 4], [5, 6, 7, 8], [9, 10, 11, 12]]))"
   ]
  },
  {
   "cell_type": "code",
   "execution_count": 30,
   "metadata": {},
   "outputs": [
    {
     "name": "stdout",
     "output_type": "stream",
     "text": [
      "{'spreadsheetId': '1z3mbhrUhIBno40_fGUnLr4AQhpO8AmgW5VEUzpSjICY', 'replies': [{}]}\n"
     ]
    }
   ],
   "source": [
    "\"\"\"\n",
    "調整格式設定值\n",
    "\n",
    "\"\"\"\n",
    "\n",
    "print(work_sheet1.format('A7:D9',\n",
    "                         {\n",
    "                            \"backgroundColor\": {\n",
    "                              \"red\": 0.9,\n",
    "                              \"green\": 0.4,\n",
    "                              \"blue\": 0.5\n",
    "                            },\n",
    "                            \"horizontalAlignment\": \"CENTER\",\n",
    "                            \"textFormat\": {\n",
    "                              \"foregroundColor\": {\n",
    "                                \"red\": 0.9,\n",
    "                                \"green\": 0.8,\n",
    "                                \"blue\": 0.7\n",
    "                              },\n",
    "                              \"fontSize\": 15,\n",
    "                              \"bold\": False\n",
    "                            }\n",
    "                        })\n",
    "     )"
   ]
  },
  {
   "cell_type": "code",
   "execution_count": null,
   "metadata": {},
   "outputs": [],
   "source": []
  },
  {
   "cell_type": "code",
   "execution_count": null,
   "metadata": {},
   "outputs": [],
   "source": []
  }
 ],
 "metadata": {
  "kernelspec": {
   "display_name": "Python 3",
   "language": "python",
   "name": "python3"
  },
  "language_info": {
   "codemirror_mode": {
    "name": "ipython",
    "version": 3
   },
   "file_extension": ".py",
   "mimetype": "text/x-python",
   "name": "python",
   "nbconvert_exporter": "python",
   "pygments_lexer": "ipython3",
   "version": "3.6.5"
  }
 },
 "nbformat": 4,
 "nbformat_minor": 2
}
