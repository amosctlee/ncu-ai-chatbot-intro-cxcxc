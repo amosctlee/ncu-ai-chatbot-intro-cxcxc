{
 "cells": [
  {
   "cell_type": "code",
   "execution_count": null,
   "metadata": {},
   "outputs": [],
   "source": [
    "\"\"\"\n",
    "安裝所需套件\n",
    "\n",
    "\"\"\"\n",
    "\n",
    "!pip install peewee"
   ]
  },
  {
   "cell_type": "code",
   "execution_count": null,
   "metadata": {},
   "outputs": [],
   "source": [
    "\"\"\"\n",
    "Model.create(), for executing INSERT queries.\n",
    "Model.save() and Model.update(), for executing UPDATE queries.\n",
    "Model.delete_instance() and Model.delete(), for executing DELETE queries.\n",
    "Model.select(), for executing SELECT queries.\n",
    "\n",
    "\"\"\""
   ]
  },
  {
   "cell_type": "code",
   "execution_count": null,
   "metadata": {},
   "outputs": [],
   "source": [
    "\"\"\"\n",
    "引用套件\n",
    "連接資料庫\n",
    "\n",
    "\"\"\"\n",
    "import peewee\n",
    "\n",
    "# # SQLite database using WAL journal mode and 64MB cache.\n",
    "# sqlite_db = peewee.SqliteDatabase('/path/to/app.db', pragmas={\n",
    "#     'journal_mode': 'wal',\n",
    "#     'cache_size': -1024 * 64})\n",
    "\n",
    "# # Connect to a MySQL database on network.\n",
    "# mysql_db = peewee.MySQLDatabase('my_app', user='app', password='db_password',\n",
    "#                          host='10.1.0.8', port=3316)\n",
    "\n",
    "# # Connect to a Postgres database.\n",
    "# pg_db = peewee.PostgresqlDatabase('my_app', user='postgres', password='secret',\n",
    "#                            host='10.1.0.9', port=5432)\n",
    "\n",
    "\n",
    "db = peewee.PostgresqlDatabase('你的DB', \n",
    "                        user='你的USER', \n",
    "                        password='你的PW',\n",
    "                        host='你的HOST', \n",
    "                        port=5432)"
   ]
  },
  {
   "cell_type": "code",
   "execution_count": null,
   "metadata": {
    "scrolled": true
   },
   "outputs": [],
   "source": [
    "\"\"\"\n",
    "立即連接資料庫，可以在此處就發現連線問題\n",
    "若沒有特別使用 db.connect()，則第一次query 時才真正建立連線\n",
    "\n",
    "\"\"\"\n",
    "db.connect()"
   ]
  },
  {
   "cell_type": "code",
   "execution_count": null,
   "metadata": {},
   "outputs": [],
   "source": [
    "\"\"\"\n",
    "定義資料表\n",
    "    建立BaseModel類別，對應到資料庫中的表格。\n",
    "    類別中的屬性對應到表格中的欄位。\n",
    "\n",
    "在該類下創建子類別Meta\n",
    "    Meta是一個內部類，\n",
    "    用於定義peewee的Model類別的行為特性，\n",
    "    指定dabatase 為 前面定義的db。\n",
    "\n",
    "\"\"\"\n",
    "\n",
    "# 定義Person資料表\n",
    "class Person(peewee.Model):\n",
    "    # 定義欄位\n",
    "    name = peewee.CharField()\n",
    "    birthday = peewee.DateField()\n",
    "    \n",
    "    # 指定使用的資料庫\n",
    "    class Meta:\n",
    "        database = db\n",
    "\n",
    "# 定義Person資料表\n",
    "class Pet(peewee.Model):\n",
    "    # 定義欄位\n",
    "    owner = peewee.ForeignKeyField(Person, backref='pets')\n",
    "    name = peewee.CharField()\n",
    "    animal_type = peewee.CharField()\n",
    "\n",
    "    # 指定使用的資料庫\n",
    "    class Meta:\n",
    "        database = db"
   ]
  },
  {
   "cell_type": "code",
   "execution_count": null,
   "metadata": {},
   "outputs": [],
   "source": [
    "\"\"\"\n",
    "執行create_table()方法，將表格實際創建出來\n",
    "\n",
    "\"\"\"\n",
    "\n",
    "db.create_tables([Person, Pet])"
   ]
  },
  {
   "cell_type": "code",
   "execution_count": null,
   "metadata": {},
   "outputs": [],
   "source": [
    "\"\"\"\n",
    "insert\n",
    "\n",
    "    Storing data\n",
    "    Let’s begin by populating the database with some people. \n",
    "    We will use the save() and create() methods to add and update people's records.\n",
    "\n",
    "\"\"\"\n",
    "\n",
    "# from datetime import date\n",
    "\n",
    "# # 第一種插入資料方式：建立instance時直接提供參數，呼叫save()儲存資料。\n",
    "# uncle_bob = Person(name='Bob', birthday=date(1960, 1, 15))\n",
    "# uncle_bob.save() # bob is now stored in the database # Returns: 1\n",
    "\n",
    "# # 第二種插入資料方式：呼叫create()直接儲存資料。\n",
    "# grandma = Person.create(name='Grandma', birthday=date(1935, 3, 1))\n",
    "# herb = Person.create(name='Herb', birthday=date(1950, 5, 5))\n",
    "\n",
    "# bob_kitty = Pet.create(owner=uncle_bob, name='Kitty', animal_type='cat')\n",
    "# herb_fido = Pet.create(owner=herb, name='Fido', animal_type='dog')\n",
    "# herb_mittens = Pet.create(owner=herb, name='Mittens', animal_type='cat')\n",
    "# herb_mittens_jr = Pet.create(owner=herb, name='Mittens Jr', animal_type='cat')"
   ]
  },
  {
   "cell_type": "code",
   "execution_count": null,
   "metadata": {},
   "outputs": [],
   "source": [
    "\"\"\"\n",
    "第一種插入資料方式：\n",
    "    建立instance時直接提供參數\n",
    "    隨後呼叫save()儲存資料。\n",
    "\n",
    "\"\"\"\n",
    "\n",
    "from datetime import date\n",
    "\n",
    "uncle_bob = Person(name='Bob', birthday=date(1960, 1, 15))\n",
    "uncle_bob.save() # bob is now stored in the database # Returns: 1\n"
   ]
  },
  {
   "cell_type": "code",
   "execution_count": null,
   "metadata": {},
   "outputs": [],
   "source": [
    "\"\"\"\n",
    "第二種插入資料方式：\n",
    "    呼叫create()直接儲存資料。\n",
    "\n",
    "\"\"\"\n",
    "\n",
    "from datetime import date\n",
    "\n",
    "grandma = Person.create(name='Grandma', birthday=date(1935, 3, 1))\n",
    "herb = Person.create(name='Herb', birthday=date(1950, 5, 5))\n"
   ]
  },
  {
   "cell_type": "code",
   "execution_count": null,
   "metadata": {},
   "outputs": [],
   "source": [
    "\"\"\"\n",
    "請練習在Pet資料表中也插入資料\n",
    "\n",
    "\"\"\"\n",
    "\n",
    "bob_kitty = Pet.create(owner=uncle_bob, name='Kitty', animal_type='cat')\n",
    "herb_fido = Pet.create(owner=herb, name='Fido', animal_type='dog')\n",
    "herb_mittens = Pet.create(owner=herb, name='Mittens', animal_type='cat')\n",
    "herb_mittens_jr = Pet.create(owner=herb, name='Mittens Jr', animal_type='cat')\n"
   ]
  },
  {
   "cell_type": "code",
   "execution_count": null,
   "metadata": {
    "scrolled": true
   },
   "outputs": [],
   "source": [
    "\"\"\"\n",
    "select\n",
    "\n",
    "Single record\n",
    "\n",
    "\"\"\"\n",
    "\n",
    "# To get a single record from the database, use Select.get():\n",
    "grandma = Person.select().where(Person.name == 'Herb').get()\n",
    "print(grandma.name, grandma.birthday)\n",
    "\n",
    "# We can also use the equivalent shorthand Model.get():\n",
    "grandma2 = Person.get(Person.name == 'Grandma')\n",
    "print(grandma2.name, grandma2.birthday)\n"
   ]
  },
  {
   "cell_type": "code",
   "execution_count": null,
   "metadata": {},
   "outputs": [],
   "source": [
    "\"\"\"\n",
    "select\n",
    "\n",
    "lists of records\n",
    "\n",
    "\"\"\"\n",
    "print(type(Person.select()))  # 可用迴圈遍歷，但不是真的python的list\n",
    "\n",
    "# 使用select()，選取全部資料，再用迴圈一一列出。\n",
    "for person in Person.select():\n",
    "    print(person.id, person.name, person.birthday)\n",
    "\n",
    "print(\"---分隔線---\")\n",
    "\n",
    "# 使用更多SQL語句\n",
    "query = Pet.select().where(Pet.animal_type == 'cat')\n",
    "\n",
    "for pet in query:\n",
    "    print(\"Pet's name: \", pet.name, \"; \", \"Owner's name: \", pet.owner.name)"
   ]
  },
  {
   "cell_type": "code",
   "execution_count": null,
   "metadata": {
    "scrolled": true
   },
   "outputs": [],
   "source": [
    "\"\"\"\n",
    "update\n",
    "\n",
    "    When you call save(), the number of rows modified is returned.\n",
    "\n",
    "\"\"\"\n",
    "from datetime import date\n",
    "\n",
    "# step1 選出要變更的資料\n",
    "grandmaUpdate = Person.select().where(Person.name == 'Grandma').get()\n",
    "print(type(grandmaUpdate))\n",
    "\n",
    "# step2 變更欄位\n",
    "grandmaUpdate.name = 'Grandma L.'\n",
    "\n",
    "# step3 儲存變更\n",
    "grandmaUpdate.save()  # Update grandma's name in the database.\n",
    "# Returns: 1"
   ]
  },
  {
   "cell_type": "code",
   "execution_count": null,
   "metadata": {},
   "outputs": [],
   "source": [
    "\"\"\"\n",
    "delete\n",
    "\n",
    "\"\"\"\n",
    "# 刪除單筆資料：Model.delete_instance()\n",
    "person = Person.get(Person.name == 'Grandma L.')\n",
    "person.delete_instance()  # Returns the number of rows deleted.\n",
    "# 1\n",
    "\n",
    "\n",
    "# # 刪除多筆資料：Model.delete()\n",
    "# query = Person.delete().where(Person.id > 1)\n",
    "# query.execute()  # Returns the number of rows deleted."
   ]
  },
  {
   "cell_type": "code",
   "execution_count": null,
   "metadata": {},
   "outputs": [],
   "source": [
    "\"\"\"\n",
    "關閉資料庫連線\n",
    "\n",
    "\"\"\"\n",
    "\n",
    "if db:\n",
    "    db.close()"
   ]
  },
  {
   "cell_type": "code",
   "execution_count": null,
   "metadata": {},
   "outputs": [],
   "source": []
  },
  {
   "cell_type": "code",
   "execution_count": null,
   "metadata": {},
   "outputs": [],
   "source": []
  }
 ],
 "metadata": {
  "kernelspec": {
   "display_name": "Python 3",
   "language": "python",
   "name": "python3"
  },
  "language_info": {
   "codemirror_mode": {
    "name": "ipython",
    "version": 3
   },
   "file_extension": ".py",
   "mimetype": "text/x-python",
   "name": "python",
   "nbconvert_exporter": "python",
   "pygments_lexer": "ipython3",
   "version": "3.6.5"
  }
 },
 "nbformat": 4,
 "nbformat_minor": 2
}
